{
 "cells": [
  {
   "cell_type": "code",
   "execution_count": 1,
   "id": "a06b53c1-6c2a-4646-8965-9b175c8533c8",
   "metadata": {},
   "outputs": [],
   "source": [
    "salaries = ['30k','20k','65k','89k','25k']"
   ]
  },
  {
   "cell_type": "code",
   "execution_count": 2,
   "id": "aa8dfe10-b2dc-4227-bc5e-be34c46bc3e4",
   "metadata": {},
   "outputs": [
    {
     "data": {
      "text/plain": [
       "['30k', '20k', '65k', '89k', '25k']"
      ]
     },
     "execution_count": 2,
     "metadata": {},
     "output_type": "execute_result"
    }
   ],
   "source": [
    "salaries"
   ]
  },
  {
   "cell_type": "code",
   "execution_count": 3,
   "id": "caa95e0c-e077-45ee-bc67-82b6976f864b",
   "metadata": {},
   "outputs": [
    {
     "data": {
      "text/plain": [
       "['__add__',\n",
       " '__class__',\n",
       " '__class_getitem__',\n",
       " '__contains__',\n",
       " '__delattr__',\n",
       " '__delitem__',\n",
       " '__dir__',\n",
       " '__doc__',\n",
       " '__eq__',\n",
       " '__format__',\n",
       " '__ge__',\n",
       " '__getattribute__',\n",
       " '__getitem__',\n",
       " '__getstate__',\n",
       " '__gt__',\n",
       " '__hash__',\n",
       " '__iadd__',\n",
       " '__imul__',\n",
       " '__init__',\n",
       " '__init_subclass__',\n",
       " '__iter__',\n",
       " '__le__',\n",
       " '__len__',\n",
       " '__lt__',\n",
       " '__mul__',\n",
       " '__ne__',\n",
       " '__new__',\n",
       " '__reduce__',\n",
       " '__reduce_ex__',\n",
       " '__repr__',\n",
       " '__reversed__',\n",
       " '__rmul__',\n",
       " '__setattr__',\n",
       " '__setitem__',\n",
       " '__sizeof__',\n",
       " '__str__',\n",
       " '__subclasshook__',\n",
       " 'append',\n",
       " 'clear',\n",
       " 'copy',\n",
       " 'count',\n",
       " 'extend',\n",
       " 'index',\n",
       " 'insert',\n",
       " 'pop',\n",
       " 'remove',\n",
       " 'reverse',\n",
       " 'sort']"
      ]
     },
     "execution_count": 3,
     "metadata": {},
     "output_type": "execute_result"
    }
   ],
   "source": [
    "dir([])"
   ]
  },
  {
   "cell_type": "code",
   "execution_count": 4,
   "id": "2e36496a-ac38-4641-85f5-3c325cf286a8",
   "metadata": {},
   "outputs": [
    {
     "data": {
      "text/plain": [
       "['__add__',\n",
       " '__class__',\n",
       " '__class_getitem__',\n",
       " '__contains__',\n",
       " '__delattr__',\n",
       " '__delitem__',\n",
       " '__dir__',\n",
       " '__doc__',\n",
       " '__eq__',\n",
       " '__format__',\n",
       " '__ge__',\n",
       " '__getattribute__',\n",
       " '__getitem__',\n",
       " '__getstate__',\n",
       " '__gt__',\n",
       " '__hash__',\n",
       " '__iadd__',\n",
       " '__imul__',\n",
       " '__init__',\n",
       " '__init_subclass__',\n",
       " '__iter__',\n",
       " '__le__',\n",
       " '__len__',\n",
       " '__lt__',\n",
       " '__mul__',\n",
       " '__ne__',\n",
       " '__new__',\n",
       " '__reduce__',\n",
       " '__reduce_ex__',\n",
       " '__repr__',\n",
       " '__reversed__',\n",
       " '__rmul__',\n",
       " '__setattr__',\n",
       " '__setitem__',\n",
       " '__sizeof__',\n",
       " '__str__',\n",
       " '__subclasshook__',\n",
       " 'append',\n",
       " 'clear',\n",
       " 'copy',\n",
       " 'count',\n",
       " 'extend',\n",
       " 'index',\n",
       " 'insert',\n",
       " 'pop',\n",
       " 'remove',\n",
       " 'reverse',\n",
       " 'sort']"
      ]
     },
     "execution_count": 4,
     "metadata": {},
     "output_type": "execute_result"
    }
   ],
   "source": [
    "dir(list)"
   ]
  },
  {
   "cell_type": "code",
   "execution_count": 5,
   "id": "02a451b1-93e5-4fb3-b671-35fd0ac3edfe",
   "metadata": {},
   "outputs": [
    {
     "data": {
      "text/plain": [
       "['__add__',\n",
       " '__class__',\n",
       " '__class_getitem__',\n",
       " '__contains__',\n",
       " '__delattr__',\n",
       " '__delitem__',\n",
       " '__dir__',\n",
       " '__doc__',\n",
       " '__eq__',\n",
       " '__format__',\n",
       " '__ge__',\n",
       " '__getattribute__',\n",
       " '__getitem__',\n",
       " '__getstate__',\n",
       " '__gt__',\n",
       " '__hash__',\n",
       " '__iadd__',\n",
       " '__imul__',\n",
       " '__init__',\n",
       " '__init_subclass__',\n",
       " '__iter__',\n",
       " '__le__',\n",
       " '__len__',\n",
       " '__lt__',\n",
       " '__mul__',\n",
       " '__ne__',\n",
       " '__new__',\n",
       " '__reduce__',\n",
       " '__reduce_ex__',\n",
       " '__repr__',\n",
       " '__reversed__',\n",
       " '__rmul__',\n",
       " '__setattr__',\n",
       " '__setitem__',\n",
       " '__sizeof__',\n",
       " '__str__',\n",
       " '__subclasshook__',\n",
       " 'append',\n",
       " 'clear',\n",
       " 'copy',\n",
       " 'count',\n",
       " 'extend',\n",
       " 'index',\n",
       " 'insert',\n",
       " 'pop',\n",
       " 'remove',\n",
       " 'reverse',\n",
       " 'sort']"
      ]
     },
     "execution_count": 5,
     "metadata": {},
     "output_type": "execute_result"
    }
   ],
   "source": [
    "dir(salaries)"
   ]
  },
  {
   "cell_type": "code",
   "execution_count": 6,
   "id": "92adf4e5-9be3-4cf7-8c98-251327437c79",
   "metadata": {},
   "outputs": [
    {
     "data": {
      "text/plain": [
       "['30k', '20k', '65k', '89k', '25k']"
      ]
     },
     "execution_count": 6,
     "metadata": {},
     "output_type": "execute_result"
    }
   ],
   "source": [
    "salaries"
   ]
  },
  {
   "cell_type": "code",
   "execution_count": 7,
   "id": "7e8c77b1-96ba-43ed-a59b-c786ed404e65",
   "metadata": {},
   "outputs": [
    {
     "data": {
      "text/plain": [
       "5"
      ]
     },
     "execution_count": 7,
     "metadata": {},
     "output_type": "execute_result"
    }
   ],
   "source": [
    "len(salaries)"
   ]
  },
  {
   "cell_type": "code",
   "execution_count": 8,
   "id": "318aca24-b380-4d4e-a6b8-825c9eaec42c",
   "metadata": {},
   "outputs": [],
   "source": [
    "salaries.append('100k')"
   ]
  },
  {
   "cell_type": "code",
   "execution_count": 9,
   "id": "baea145d-e5dd-480f-ac3c-99c178b49fd6",
   "metadata": {},
   "outputs": [
    {
     "data": {
      "text/plain": [
       "['30k', '20k', '65k', '89k', '25k', '100k']"
      ]
     },
     "execution_count": 9,
     "metadata": {},
     "output_type": "execute_result"
    }
   ],
   "source": [
    "salaries"
   ]
  },
  {
   "cell_type": "code",
   "execution_count": 23,
   "id": "1e6fe7e1-93a3-43b0-bbff-3d93a1ed2b3d",
   "metadata": {},
   "outputs": [],
   "source": [
    "salaries.insert(4,'200k')"
   ]
  },
  {
   "cell_type": "code",
   "execution_count": 25,
   "id": "fcfe2b7b-f1eb-455f-a3d7-090e6d23c0f9",
   "metadata": {},
   "outputs": [
    {
     "data": {
      "text/plain": [
       "['30k', '20k', '65k', '89k', '200k', '25k', '100k']"
      ]
     },
     "execution_count": 25,
     "metadata": {},
     "output_type": "execute_result"
    }
   ],
   "source": [
    "salaries"
   ]
  },
  {
   "cell_type": "code",
   "execution_count": 29,
   "id": "74c3d5f6-060f-4168-b3a6-cb6fe06b3fd1",
   "metadata": {},
   "outputs": [
    {
     "data": {
      "text/plain": [
       "'25k'"
      ]
     },
     "execution_count": 29,
     "metadata": {},
     "output_type": "execute_result"
    }
   ],
   "source": [
    "salaries[5]"
   ]
  },
  {
   "cell_type": "code",
   "execution_count": 31,
   "id": "3ebb3fad-7783-4f8c-9ed2-92720ad96876",
   "metadata": {},
   "outputs": [],
   "source": [
    "salaries[5] = '30k'"
   ]
  },
  {
   "cell_type": "code",
   "execution_count": 33,
   "id": "1d8c2c90-8d3f-4176-bed8-c7f034afc5dd",
   "metadata": {},
   "outputs": [
    {
     "data": {
      "text/plain": [
       "['30k', '20k', '65k', '89k', '200k', '30k', '100k']"
      ]
     },
     "execution_count": 33,
     "metadata": {},
     "output_type": "execute_result"
    }
   ],
   "source": [
    "salaries"
   ]
  },
  {
   "cell_type": "code",
   "execution_count": 35,
   "id": "90e56b36-9f86-4bfd-8fa0-75d6f22fd1e7",
   "metadata": {},
   "outputs": [
    {
     "ename": "TypeError",
     "evalue": "list indices must be integers or slices, not tuple",
     "output_type": "error",
     "traceback": [
      "\u001b[1;31m---------------------------------------------------------------------------\u001b[0m",
      "\u001b[1;31mTypeError\u001b[0m                                 Traceback (most recent call last)",
      "Cell \u001b[1;32mIn[35], line 1\u001b[0m\n\u001b[1;32m----> 1\u001b[0m salaries[\u001b[38;5;241m2\u001b[39m,\u001b[38;5;241m3\u001b[39m,\u001b[38;5;241m4\u001b[39m] \u001b[38;5;241m=\u001b[39m \u001b[38;5;241m60\u001b[39m,\u001b[38;5;241m50\u001b[39m,\u001b[38;5;241m70\u001b[39m\n",
      "\u001b[1;31mTypeError\u001b[0m: list indices must be integers or slices, not tuple"
     ]
    }
   ],
   "source": [
    "salaries[2,3,4] = 60,50,70"
   ]
  },
  {
   "cell_type": "code",
   "execution_count": 37,
   "id": "b2e0f163-3103-4944-ab13-1063de8822ad",
   "metadata": {},
   "outputs": [],
   "source": [
    "salaries[2:5] = 60,50,70"
   ]
  },
  {
   "cell_type": "code",
   "execution_count": 39,
   "id": "d94302e7-9a06-4420-9e4d-d1e7c32a64b2",
   "metadata": {},
   "outputs": [
    {
     "data": {
      "text/plain": [
       "['30k', '20k', 60, 50, 70, '30k', '100k']"
      ]
     },
     "execution_count": 39,
     "metadata": {},
     "output_type": "execute_result"
    }
   ],
   "source": [
    "salaries"
   ]
  },
  {
   "cell_type": "code",
   "execution_count": 41,
   "id": "23bd4026-44bb-4331-b496-7b7955bbb00c",
   "metadata": {},
   "outputs": [],
   "source": [
    "salaries[2:5] = '60k','50k','70k'"
   ]
  },
  {
   "cell_type": "code",
   "execution_count": 43,
   "id": "1181ff16-189b-4950-8c44-2da62b8b8fe4",
   "metadata": {},
   "outputs": [
    {
     "data": {
      "text/plain": [
       "['30k', '20k', '60k', '50k', '70k', '30k', '100k']"
      ]
     },
     "execution_count": 43,
     "metadata": {},
     "output_type": "execute_result"
    }
   ],
   "source": [
    "salaries"
   ]
  },
  {
   "cell_type": "code",
   "execution_count": null,
   "id": "887f469b-4f1f-46a7-979e-5c3637f2c4c5",
   "metadata": {},
   "outputs": [],
   "source": [
    "# pop\n",
    "# remove"
   ]
  },
  {
   "cell_type": "code",
   "execution_count": 45,
   "id": "0690b73d-e693-4a06-ad8b-7e1d07862449",
   "metadata": {},
   "outputs": [
    {
     "data": {
      "text/plain": [
       "'100k'"
      ]
     },
     "execution_count": 45,
     "metadata": {},
     "output_type": "execute_result"
    }
   ],
   "source": [
    "salaries.pop()"
   ]
  },
  {
   "cell_type": "code",
   "execution_count": 47,
   "id": "0d287a4e-aad3-4178-85be-4bae9d818f2c",
   "metadata": {},
   "outputs": [
    {
     "data": {
      "text/plain": [
       "['30k', '20k', '60k', '50k', '70k', '30k']"
      ]
     },
     "execution_count": 47,
     "metadata": {},
     "output_type": "execute_result"
    }
   ],
   "source": [
    "salaries"
   ]
  },
  {
   "cell_type": "code",
   "execution_count": 49,
   "id": "ed898ba9-db8e-494f-aeca-0723fceee92a",
   "metadata": {},
   "outputs": [
    {
     "data": {
      "text/plain": [
       "'50k'"
      ]
     },
     "execution_count": 49,
     "metadata": {},
     "output_type": "execute_result"
    }
   ],
   "source": [
    "salaries.pop(3)"
   ]
  },
  {
   "cell_type": "code",
   "execution_count": 51,
   "id": "c2cbb8f7-d3fa-426b-99ff-afa9abdece6a",
   "metadata": {},
   "outputs": [
    {
     "data": {
      "text/plain": [
       "['30k', '20k', '60k', '70k', '30k']"
      ]
     },
     "execution_count": 51,
     "metadata": {},
     "output_type": "execute_result"
    }
   ],
   "source": [
    "salaries"
   ]
  },
  {
   "cell_type": "code",
   "execution_count": 53,
   "id": "fc70c6db-5d82-4a43-99ea-9e16849bfe65",
   "metadata": {},
   "outputs": [
    {
     "ename": "ValueError",
     "evalue": "list.remove(x): x not in list",
     "output_type": "error",
     "traceback": [
      "\u001b[1;31m---------------------------------------------------------------------------\u001b[0m",
      "\u001b[1;31mValueError\u001b[0m                                Traceback (most recent call last)",
      "Cell \u001b[1;32mIn[53], line 1\u001b[0m\n\u001b[1;32m----> 1\u001b[0m salaries\u001b[38;5;241m.\u001b[39mremove(\u001b[38;5;241m70000\u001b[39m)\n",
      "\u001b[1;31mValueError\u001b[0m: list.remove(x): x not in list"
     ]
    }
   ],
   "source": [
    "salaries.remove(70000)"
   ]
  },
  {
   "cell_type": "code",
   "execution_count": 55,
   "id": "6007e5ac-6ab5-4dce-92ba-62f355259674",
   "metadata": {},
   "outputs": [],
   "source": [
    "salaries.remove('70k')"
   ]
  },
  {
   "cell_type": "code",
   "execution_count": 57,
   "id": "988f62a2-8a86-4805-a074-a5d138726016",
   "metadata": {},
   "outputs": [
    {
     "data": {
      "text/plain": [
       "['30k', '20k', '60k', '30k']"
      ]
     },
     "execution_count": 57,
     "metadata": {},
     "output_type": "execute_result"
    }
   ],
   "source": [
    "salaries"
   ]
  },
  {
   "cell_type": "code",
   "execution_count": 59,
   "id": "b64348db-e301-4354-a56d-8cc8df3f4303",
   "metadata": {},
   "outputs": [
    {
     "ename": "TypeError",
     "evalue": "list.remove() takes exactly one argument (2 given)",
     "output_type": "error",
     "traceback": [
      "\u001b[1;31m---------------------------------------------------------------------------\u001b[0m",
      "\u001b[1;31mTypeError\u001b[0m                                 Traceback (most recent call last)",
      "Cell \u001b[1;32mIn[59], line 1\u001b[0m\n\u001b[1;32m----> 1\u001b[0m salaries\u001b[38;5;241m.\u001b[39mremove(\u001b[38;5;124m'\u001b[39m\u001b[38;5;124m70k\u001b[39m\u001b[38;5;124m'\u001b[39m,\u001b[38;5;124m'\u001b[39m\u001b[38;5;124m60k\u001b[39m\u001b[38;5;124m'\u001b[39m)\n",
      "\u001b[1;31mTypeError\u001b[0m: list.remove() takes exactly one argument (2 given)"
     ]
    }
   ],
   "source": [
    "salaries.remove('70k','60k')"
   ]
  },
  {
   "cell_type": "code",
   "execution_count": 61,
   "id": "57a0ba56-74d2-4ce1-bc18-247740f9c41d",
   "metadata": {},
   "outputs": [
    {
     "data": {
      "text/plain": [
       "['__add__',\n",
       " '__class__',\n",
       " '__class_getitem__',\n",
       " '__contains__',\n",
       " '__delattr__',\n",
       " '__delitem__',\n",
       " '__dir__',\n",
       " '__doc__',\n",
       " '__eq__',\n",
       " '__format__',\n",
       " '__ge__',\n",
       " '__getattribute__',\n",
       " '__getitem__',\n",
       " '__getstate__',\n",
       " '__gt__',\n",
       " '__hash__',\n",
       " '__iadd__',\n",
       " '__imul__',\n",
       " '__init__',\n",
       " '__init_subclass__',\n",
       " '__iter__',\n",
       " '__le__',\n",
       " '__len__',\n",
       " '__lt__',\n",
       " '__mul__',\n",
       " '__ne__',\n",
       " '__new__',\n",
       " '__reduce__',\n",
       " '__reduce_ex__',\n",
       " '__repr__',\n",
       " '__reversed__',\n",
       " '__rmul__',\n",
       " '__setattr__',\n",
       " '__setitem__',\n",
       " '__sizeof__',\n",
       " '__str__',\n",
       " '__subclasshook__',\n",
       " 'append',\n",
       " 'clear',\n",
       " 'copy',\n",
       " 'count',\n",
       " 'extend',\n",
       " 'index',\n",
       " 'insert',\n",
       " 'pop',\n",
       " 'remove',\n",
       " 'reverse',\n",
       " 'sort']"
      ]
     },
     "execution_count": 61,
     "metadata": {},
     "output_type": "execute_result"
    }
   ],
   "source": [
    "dir([])"
   ]
  },
  {
   "cell_type": "code",
   "execution_count": 63,
   "id": "8771f7d2-9f45-4753-9114-57c2ec3fd97a",
   "metadata": {},
   "outputs": [],
   "source": [
    "salaries.clear()"
   ]
  },
  {
   "cell_type": "code",
   "execution_count": 65,
   "id": "fcb7c239-aad6-432f-b3d7-6e03ae5782f9",
   "metadata": {},
   "outputs": [
    {
     "data": {
      "text/plain": [
       "[]"
      ]
     },
     "execution_count": 65,
     "metadata": {},
     "output_type": "execute_result"
    }
   ],
   "source": [
    "salaries"
   ]
  },
  {
   "cell_type": "code",
   "execution_count": 67,
   "id": "7720e08b-9d2a-406f-b4b5-8a6d2536ab37",
   "metadata": {},
   "outputs": [],
   "source": [
    "salaries = ['30k','20k','65k','89k','25k']"
   ]
  },
  {
   "cell_type": "code",
   "execution_count": 69,
   "id": "9d2a2675-85d0-49b5-b629-dbe3cf79946e",
   "metadata": {},
   "outputs": [
    {
     "data": {
      "text/plain": [
       "['30k', '20k', '65k', '89k', '25k']"
      ]
     },
     "execution_count": 69,
     "metadata": {},
     "output_type": "execute_result"
    }
   ],
   "source": [
    "salaries"
   ]
  },
  {
   "cell_type": "code",
   "execution_count": 79,
   "id": "66619e9e-f607-4e16-955a-f59979188ec5",
   "metadata": {},
   "outputs": [],
   "source": [
    "copy = salaries.copy()"
   ]
  },
  {
   "cell_type": "code",
   "execution_count": 81,
   "id": "c8c57512-d52c-4658-9308-44b1bae63490",
   "metadata": {},
   "outputs": [
    {
     "data": {
      "text/plain": [
       "['30k', '20k', '65k', '89k', '25k']"
      ]
     },
     "execution_count": 81,
     "metadata": {},
     "output_type": "execute_result"
    }
   ],
   "source": [
    "copy"
   ]
  },
  {
   "cell_type": "code",
   "execution_count": 83,
   "id": "55b9cda1-6c22-4904-aa8c-ee2861e7d50e",
   "metadata": {},
   "outputs": [
    {
     "data": {
      "text/plain": [
       "['30k', '20k', '65k', '89k', '25k']"
      ]
     },
     "execution_count": 83,
     "metadata": {},
     "output_type": "execute_result"
    }
   ],
   "source": [
    "salaries"
   ]
  },
  {
   "cell_type": "code",
   "execution_count": 85,
   "id": "c0a79871-d1b9-4529-a896-7a7348016598",
   "metadata": {},
   "outputs": [],
   "source": [
    "copy1 = salaries"
   ]
  },
  {
   "cell_type": "code",
   "execution_count": 87,
   "id": "815de49d-0778-4341-9e56-4d8120d6b5c0",
   "metadata": {},
   "outputs": [
    {
     "data": {
      "text/plain": [
       "['30k', '20k', '65k', '89k', '25k']"
      ]
     },
     "execution_count": 87,
     "metadata": {},
     "output_type": "execute_result"
    }
   ],
   "source": [
    "copy1"
   ]
  },
  {
   "cell_type": "code",
   "execution_count": 89,
   "id": "acf28dc2-429d-4842-a439-fd377c55078a",
   "metadata": {},
   "outputs": [
    {
     "data": {
      "text/plain": [
       "5"
      ]
     },
     "execution_count": 89,
     "metadata": {},
     "output_type": "execute_result"
    }
   ],
   "source": [
    "len(salaries)"
   ]
  },
  {
   "cell_type": "code",
   "execution_count": null,
   "id": "0903c03c-5c51-4da2-9040-c4bc1322318b",
   "metadata": {},
   "outputs": [],
   "source": [
    "# index = []\n",
    "# list = []"
   ]
  },
  {
   "cell_type": "code",
   "execution_count": 91,
   "id": "8d2aa810-97a9-4a2b-9a86-852f98ca0aa8",
   "metadata": {},
   "outputs": [
    {
     "data": {
      "text/plain": [
       "['__add__',\n",
       " '__class__',\n",
       " '__class_getitem__',\n",
       " '__contains__',\n",
       " '__delattr__',\n",
       " '__delitem__',\n",
       " '__dir__',\n",
       " '__doc__',\n",
       " '__eq__',\n",
       " '__format__',\n",
       " '__ge__',\n",
       " '__getattribute__',\n",
       " '__getitem__',\n",
       " '__getstate__',\n",
       " '__gt__',\n",
       " '__hash__',\n",
       " '__iadd__',\n",
       " '__imul__',\n",
       " '__init__',\n",
       " '__init_subclass__',\n",
       " '__iter__',\n",
       " '__le__',\n",
       " '__len__',\n",
       " '__lt__',\n",
       " '__mul__',\n",
       " '__ne__',\n",
       " '__new__',\n",
       " '__reduce__',\n",
       " '__reduce_ex__',\n",
       " '__repr__',\n",
       " '__reversed__',\n",
       " '__rmul__',\n",
       " '__setattr__',\n",
       " '__setitem__',\n",
       " '__sizeof__',\n",
       " '__str__',\n",
       " '__subclasshook__',\n",
       " 'append',\n",
       " 'clear',\n",
       " 'copy',\n",
       " 'count',\n",
       " 'extend',\n",
       " 'index',\n",
       " 'insert',\n",
       " 'pop',\n",
       " 'remove',\n",
       " 'reverse',\n",
       " 'sort']"
      ]
     },
     "execution_count": 91,
     "metadata": {},
     "output_type": "execute_result"
    }
   ],
   "source": [
    "dir([])"
   ]
  },
  {
   "cell_type": "code",
   "execution_count": 95,
   "id": "f31119a3-e22b-4130-a35f-f0669984eef2",
   "metadata": {},
   "outputs": [
    {
     "data": {
      "text/plain": [
       "['30k', '20k', '65k', '89k', '25k']"
      ]
     },
     "execution_count": 95,
     "metadata": {},
     "output_type": "execute_result"
    }
   ],
   "source": [
    "salaries"
   ]
  },
  {
   "cell_type": "code",
   "execution_count": 93,
   "id": "6e3c2fd8-fd72-4dad-bc4c-143c2722b12e",
   "metadata": {},
   "outputs": [
    {
     "data": {
      "text/plain": [
       "1"
      ]
     },
     "execution_count": 93,
     "metadata": {},
     "output_type": "execute_result"
    }
   ],
   "source": [
    "salaries.count('20k')"
   ]
  },
  {
   "cell_type": "code",
   "execution_count": 97,
   "id": "bda56f41-8617-461f-8c53-f7eea6882041",
   "metadata": {},
   "outputs": [
    {
     "data": {
      "text/plain": [
       "0"
      ]
     },
     "execution_count": 97,
     "metadata": {},
     "output_type": "execute_result"
    }
   ],
   "source": [
    "salaries.count(20000)"
   ]
  },
  {
   "cell_type": "code",
   "execution_count": 101,
   "id": "d1980225-0987-4b45-9eff-440f02fdc194",
   "metadata": {},
   "outputs": [],
   "source": [
    "update = salaries.copy()"
   ]
  },
  {
   "cell_type": "code",
   "execution_count": 103,
   "id": "3214bbb8-ec62-4601-8510-be806f4a3825",
   "metadata": {},
   "outputs": [
    {
     "data": {
      "text/plain": [
       "['30k', '20k', '65k', '89k', '25k']"
      ]
     },
     "execution_count": 103,
     "metadata": {},
     "output_type": "execute_result"
    }
   ],
   "source": [
    "update"
   ]
  },
  {
   "cell_type": "code",
   "execution_count": 105,
   "id": "7e8df7dd-1ad8-41ae-8c69-dca0b546cf15",
   "metadata": {},
   "outputs": [
    {
     "ename": "TypeError",
     "evalue": "list.count() takes exactly one argument (0 given)",
     "output_type": "error",
     "traceback": [
      "\u001b[1;31m---------------------------------------------------------------------------\u001b[0m",
      "\u001b[1;31mTypeError\u001b[0m                                 Traceback (most recent call last)",
      "Cell \u001b[1;32mIn[105], line 1\u001b[0m\n\u001b[1;32m----> 1\u001b[0m salaries\u001b[38;5;241m.\u001b[39mcount()\n",
      "\u001b[1;31mTypeError\u001b[0m: list.count() takes exactly one argument (0 given)"
     ]
    }
   ],
   "source": [
    "salaries.count()"
   ]
  },
  {
   "cell_type": "code",
   "execution_count": 110,
   "id": "2a999e98-19b7-4dfd-a02e-a9fd6e6038fd",
   "metadata": {},
   "outputs": [
    {
     "data": {
      "text/plain": [
       "['__add__',\n",
       " '__class__',\n",
       " '__class_getitem__',\n",
       " '__contains__',\n",
       " '__delattr__',\n",
       " '__delitem__',\n",
       " '__dir__',\n",
       " '__doc__',\n",
       " '__eq__',\n",
       " '__format__',\n",
       " '__ge__',\n",
       " '__getattribute__',\n",
       " '__getitem__',\n",
       " '__getstate__',\n",
       " '__gt__',\n",
       " '__hash__',\n",
       " '__iadd__',\n",
       " '__imul__',\n",
       " '__init__',\n",
       " '__init_subclass__',\n",
       " '__iter__',\n",
       " '__le__',\n",
       " '__len__',\n",
       " '__lt__',\n",
       " '__mul__',\n",
       " '__ne__',\n",
       " '__new__',\n",
       " '__reduce__',\n",
       " '__reduce_ex__',\n",
       " '__repr__',\n",
       " '__reversed__',\n",
       " '__rmul__',\n",
       " '__setattr__',\n",
       " '__setitem__',\n",
       " '__sizeof__',\n",
       " '__str__',\n",
       " '__subclasshook__',\n",
       " 'append',\n",
       " 'clear',\n",
       " 'copy',\n",
       " 'count',\n",
       " 'extend',\n",
       " 'index',\n",
       " 'insert',\n",
       " 'pop',\n",
       " 'remove',\n",
       " 'reverse',\n",
       " 'sort']"
      ]
     },
     "execution_count": 110,
     "metadata": {},
     "output_type": "execute_result"
    }
   ],
   "source": [
    "dir([])"
   ]
  },
  {
   "cell_type": "code",
   "execution_count": 112,
   "id": "1ad3f0d2-5c7f-46a6-af94-ffa60c0c505f",
   "metadata": {},
   "outputs": [
    {
     "data": {
      "text/plain": [
       "[2, 6, 9, 7, 1]"
      ]
     },
     "execution_count": 112,
     "metadata": {},
     "output_type": "execute_result"
    }
   ],
   "source": [
    "num = [2,6,9,7,1]\n",
    "num"
   ]
  },
  {
   "cell_type": "code",
   "execution_count": 114,
   "id": "6868855d-0b45-40cc-add0-e0e4b8158752",
   "metadata": {},
   "outputs": [],
   "source": [
    "num.sort()"
   ]
  },
  {
   "cell_type": "code",
   "execution_count": 116,
   "id": "5822e7fd-93c8-4d7f-ab99-cee60ed51c46",
   "metadata": {},
   "outputs": [
    {
     "data": {
      "text/plain": [
       "[1, 2, 6, 7, 9]"
      ]
     },
     "execution_count": 116,
     "metadata": {},
     "output_type": "execute_result"
    }
   ],
   "source": [
    "num"
   ]
  },
  {
   "cell_type": "code",
   "execution_count": 118,
   "id": "cf061a3c-0798-4fe4-bd80-a30715685666",
   "metadata": {},
   "outputs": [],
   "source": [
    "num.reverse()"
   ]
  },
  {
   "cell_type": "code",
   "execution_count": 120,
   "id": "da5bbfd2-fe5d-40d6-90c8-8869f8918275",
   "metadata": {},
   "outputs": [
    {
     "data": {
      "text/plain": [
       "[9, 7, 6, 2, 1]"
      ]
     },
     "execution_count": 120,
     "metadata": {},
     "output_type": "execute_result"
    }
   ],
   "source": [
    "num"
   ]
  },
  {
   "cell_type": "code",
   "execution_count": 122,
   "id": "65003807-0ef9-4920-a30d-1839cb825b3f",
   "metadata": {},
   "outputs": [
    {
     "ename": "TypeError",
     "evalue": "list.reverse() takes no arguments (1 given)",
     "output_type": "error",
     "traceback": [
      "\u001b[1;31m---------------------------------------------------------------------------\u001b[0m",
      "\u001b[1;31mTypeError\u001b[0m                                 Traceback (most recent call last)",
      "Cell \u001b[1;32mIn[122], line 1\u001b[0m\n\u001b[1;32m----> 1\u001b[0m num\u001b[38;5;241m.\u001b[39mreverse(\u001b[38;5;241m1\u001b[39m)\n",
      "\u001b[1;31mTypeError\u001b[0m: list.reverse() takes no arguments (1 given)"
     ]
    }
   ],
   "source": [
    "num.reverse(1)"
   ]
  },
  {
   "cell_type": "code",
   "execution_count": 124,
   "id": "4eb2ffb8-3daa-4b0c-9c8e-6f6e2825d8f9",
   "metadata": {},
   "outputs": [
    {
     "data": {
      "text/plain": [
       "[9, 7, 6, 2, 1]"
      ]
     },
     "execution_count": 124,
     "metadata": {},
     "output_type": "execute_result"
    }
   ],
   "source": [
    "num"
   ]
  },
  {
   "cell_type": "code",
   "execution_count": 126,
   "id": "b7cb546e-0c6a-44c8-a197-89c70ca3fb83",
   "metadata": {},
   "outputs": [
    {
     "data": {
      "text/plain": [
       "['30k', '20k', '65k', '89k', '25k']"
      ]
     },
     "execution_count": 126,
     "metadata": {},
     "output_type": "execute_result"
    }
   ],
   "source": [
    "salaries"
   ]
  },
  {
   "cell_type": "code",
   "execution_count": 128,
   "id": "48f347e2-76f7-4222-92a1-d34056457486",
   "metadata": {},
   "outputs": [],
   "source": [
    "num.extend(salaries)"
   ]
  },
  {
   "cell_type": "code",
   "execution_count": 130,
   "id": "8c869d78-813b-439c-918b-c66569498ff9",
   "metadata": {},
   "outputs": [
    {
     "data": {
      "text/plain": [
       "[9, 7, 6, 2, 1, '30k', '20k', '65k', '89k', '25k']"
      ]
     },
     "execution_count": 130,
     "metadata": {},
     "output_type": "execute_result"
    }
   ],
   "source": [
    "num"
   ]
  },
  {
   "cell_type": "code",
   "execution_count": 132,
   "id": "f7c76ed2-139a-4d4a-b561-8967b4eb955e",
   "metadata": {},
   "outputs": [
    {
     "data": {
      "text/plain": [
       "['30k', '20k', '65k', '89k', '25k']"
      ]
     },
     "execution_count": 132,
     "metadata": {},
     "output_type": "execute_result"
    }
   ],
   "source": [
    "salaries"
   ]
  },
  {
   "cell_type": "code",
   "execution_count": 134,
   "id": "017363a9-495f-4d35-ae44-cf8576e5e896",
   "metadata": {},
   "outputs": [
    {
     "data": {
      "text/plain": [
       "['__add__',\n",
       " '__class__',\n",
       " '__contains__',\n",
       " '__delattr__',\n",
       " '__dir__',\n",
       " '__doc__',\n",
       " '__eq__',\n",
       " '__format__',\n",
       " '__ge__',\n",
       " '__getattribute__',\n",
       " '__getitem__',\n",
       " '__getnewargs__',\n",
       " '__getstate__',\n",
       " '__gt__',\n",
       " '__hash__',\n",
       " '__init__',\n",
       " '__init_subclass__',\n",
       " '__iter__',\n",
       " '__le__',\n",
       " '__len__',\n",
       " '__lt__',\n",
       " '__mod__',\n",
       " '__mul__',\n",
       " '__ne__',\n",
       " '__new__',\n",
       " '__reduce__',\n",
       " '__reduce_ex__',\n",
       " '__repr__',\n",
       " '__rmod__',\n",
       " '__rmul__',\n",
       " '__setattr__',\n",
       " '__sizeof__',\n",
       " '__str__',\n",
       " '__subclasshook__',\n",
       " 'capitalize',\n",
       " 'casefold',\n",
       " 'center',\n",
       " 'count',\n",
       " 'encode',\n",
       " 'endswith',\n",
       " 'expandtabs',\n",
       " 'find',\n",
       " 'format',\n",
       " 'format_map',\n",
       " 'index',\n",
       " 'isalnum',\n",
       " 'isalpha',\n",
       " 'isascii',\n",
       " 'isdecimal',\n",
       " 'isdigit',\n",
       " 'isidentifier',\n",
       " 'islower',\n",
       " 'isnumeric',\n",
       " 'isprintable',\n",
       " 'isspace',\n",
       " 'istitle',\n",
       " 'isupper',\n",
       " 'join',\n",
       " 'ljust',\n",
       " 'lower',\n",
       " 'lstrip',\n",
       " 'maketrans',\n",
       " 'partition',\n",
       " 'removeprefix',\n",
       " 'removesuffix',\n",
       " 'replace',\n",
       " 'rfind',\n",
       " 'rindex',\n",
       " 'rjust',\n",
       " 'rpartition',\n",
       " 'rsplit',\n",
       " 'rstrip',\n",
       " 'split',\n",
       " 'splitlines',\n",
       " 'startswith',\n",
       " 'strip',\n",
       " 'swapcase',\n",
       " 'title',\n",
       " 'translate',\n",
       " 'upper',\n",
       " 'zfill']"
      ]
     },
     "execution_count": 134,
     "metadata": {},
     "output_type": "execute_result"
    }
   ],
   "source": [
    "dir('')"
   ]
  },
  {
   "cell_type": "code",
   "execution_count": 136,
   "id": "68ccc168-b2cc-4d17-b474-faa32d805244",
   "metadata": {},
   "outputs": [
    {
     "data": {
      "text/plain": [
       "['__add__',\n",
       " '__class__',\n",
       " '__contains__',\n",
       " '__delattr__',\n",
       " '__dir__',\n",
       " '__doc__',\n",
       " '__eq__',\n",
       " '__format__',\n",
       " '__ge__',\n",
       " '__getattribute__',\n",
       " '__getitem__',\n",
       " '__getnewargs__',\n",
       " '__getstate__',\n",
       " '__gt__',\n",
       " '__hash__',\n",
       " '__init__',\n",
       " '__init_subclass__',\n",
       " '__iter__',\n",
       " '__le__',\n",
       " '__len__',\n",
       " '__lt__',\n",
       " '__mod__',\n",
       " '__mul__',\n",
       " '__ne__',\n",
       " '__new__',\n",
       " '__reduce__',\n",
       " '__reduce_ex__',\n",
       " '__repr__',\n",
       " '__rmod__',\n",
       " '__rmul__',\n",
       " '__setattr__',\n",
       " '__sizeof__',\n",
       " '__str__',\n",
       " '__subclasshook__',\n",
       " 'capitalize',\n",
       " 'casefold',\n",
       " 'center',\n",
       " 'count',\n",
       " 'encode',\n",
       " 'endswith',\n",
       " 'expandtabs',\n",
       " 'find',\n",
       " 'format',\n",
       " 'format_map',\n",
       " 'index',\n",
       " 'isalnum',\n",
       " 'isalpha',\n",
       " 'isascii',\n",
       " 'isdecimal',\n",
       " 'isdigit',\n",
       " 'isidentifier',\n",
       " 'islower',\n",
       " 'isnumeric',\n",
       " 'isprintable',\n",
       " 'isspace',\n",
       " 'istitle',\n",
       " 'isupper',\n",
       " 'join',\n",
       " 'ljust',\n",
       " 'lower',\n",
       " 'lstrip',\n",
       " 'maketrans',\n",
       " 'partition',\n",
       " 'removeprefix',\n",
       " 'removesuffix',\n",
       " 'replace',\n",
       " 'rfind',\n",
       " 'rindex',\n",
       " 'rjust',\n",
       " 'rpartition',\n",
       " 'rsplit',\n",
       " 'rstrip',\n",
       " 'split',\n",
       " 'splitlines',\n",
       " 'startswith',\n",
       " 'strip',\n",
       " 'swapcase',\n",
       " 'title',\n",
       " 'translate',\n",
       " 'upper',\n",
       " 'zfill']"
      ]
     },
     "execution_count": 136,
     "metadata": {},
     "output_type": "execute_result"
    }
   ],
   "source": [
    "dir(str)"
   ]
  },
  {
   "cell_type": "code",
   "execution_count": 138,
   "id": "7c4f72d6-b40b-40ee-bb6e-1f59be07330e",
   "metadata": {},
   "outputs": [
    {
     "data": {
      "text/plain": [
       "['__add__',\n",
       " '__class__',\n",
       " '__contains__',\n",
       " '__delattr__',\n",
       " '__dir__',\n",
       " '__doc__',\n",
       " '__eq__',\n",
       " '__format__',\n",
       " '__ge__',\n",
       " '__getattribute__',\n",
       " '__getitem__',\n",
       " '__getnewargs__',\n",
       " '__getstate__',\n",
       " '__gt__',\n",
       " '__hash__',\n",
       " '__init__',\n",
       " '__init_subclass__',\n",
       " '__iter__',\n",
       " '__le__',\n",
       " '__len__',\n",
       " '__lt__',\n",
       " '__mod__',\n",
       " '__mul__',\n",
       " '__ne__',\n",
       " '__new__',\n",
       " '__reduce__',\n",
       " '__reduce_ex__',\n",
       " '__repr__',\n",
       " '__rmod__',\n",
       " '__rmul__',\n",
       " '__setattr__',\n",
       " '__sizeof__',\n",
       " '__str__',\n",
       " '__subclasshook__',\n",
       " 'capitalize',\n",
       " 'casefold',\n",
       " 'center',\n",
       " 'count',\n",
       " 'encode',\n",
       " 'endswith',\n",
       " 'expandtabs',\n",
       " 'find',\n",
       " 'format',\n",
       " 'format_map',\n",
       " 'index',\n",
       " 'isalnum',\n",
       " 'isalpha',\n",
       " 'isascii',\n",
       " 'isdecimal',\n",
       " 'isdigit',\n",
       " 'isidentifier',\n",
       " 'islower',\n",
       " 'isnumeric',\n",
       " 'isprintable',\n",
       " 'isspace',\n",
       " 'istitle',\n",
       " 'isupper',\n",
       " 'join',\n",
       " 'ljust',\n",
       " 'lower',\n",
       " 'lstrip',\n",
       " 'maketrans',\n",
       " 'partition',\n",
       " 'removeprefix',\n",
       " 'removesuffix',\n",
       " 'replace',\n",
       " 'rfind',\n",
       " 'rindex',\n",
       " 'rjust',\n",
       " 'rpartition',\n",
       " 'rsplit',\n",
       " 'rstrip',\n",
       " 'split',\n",
       " 'splitlines',\n",
       " 'startswith',\n",
       " 'strip',\n",
       " 'swapcase',\n",
       " 'title',\n",
       " 'translate',\n",
       " 'upper',\n",
       " 'zfill']"
      ]
     },
     "execution_count": 138,
     "metadata": {},
     "output_type": "execute_result"
    }
   ],
   "source": [
    "dir(\"\")"
   ]
  },
  {
   "cell_type": "code",
   "execution_count": 140,
   "id": "896c4d97-39ea-4607-94e6-5316be5ddd26",
   "metadata": {},
   "outputs": [
    {
     "data": {
      "text/plain": [
       "'We have been comp 5 session'"
      ]
     },
     "execution_count": 140,
     "metadata": {},
     "output_type": "execute_result"
    }
   ],
   "source": [
    "session = 'We have been comp 5 session'\n",
    "session"
   ]
  },
  {
   "cell_type": "code",
   "execution_count": 142,
   "id": "a9c55550-6985-4cf0-bf77-2cc26ecc2f76",
   "metadata": {},
   "outputs": [
    {
     "ename": "AttributeError",
     "evalue": "'str' object has no attribute 'append'",
     "output_type": "error",
     "traceback": [
      "\u001b[1;31m---------------------------------------------------------------------------\u001b[0m",
      "\u001b[1;31mAttributeError\u001b[0m                            Traceback (most recent call last)",
      "Cell \u001b[1;32mIn[142], line 1\u001b[0m\n\u001b[1;32m----> 1\u001b[0m session\u001b[38;5;241m.\u001b[39mappend(\u001b[38;5;124m'\u001b[39m\u001b[38;5;124mkhu\u001b[39m\u001b[38;5;124m'\u001b[39m)\n",
      "\u001b[1;31mAttributeError\u001b[0m: 'str' object has no attribute 'append'"
     ]
    }
   ],
   "source": [
    "session.append('khu')"
   ]
  },
  {
   "cell_type": "code",
   "execution_count": 152,
   "id": "f66149c3-02c5-4b76-ac16-7fdbba900fad",
   "metadata": {},
   "outputs": [],
   "source": [
    "session = session.upper()"
   ]
  },
  {
   "cell_type": "code",
   "execution_count": 146,
   "id": "097882fd-e7dc-4fc0-b750-df38f1f217e0",
   "metadata": {},
   "outputs": [
    {
     "ename": "AttributeError",
     "evalue": "'str' object has no attribute 'Upper'",
     "output_type": "error",
     "traceback": [
      "\u001b[1;31m---------------------------------------------------------------------------\u001b[0m",
      "\u001b[1;31mAttributeError\u001b[0m                            Traceback (most recent call last)",
      "Cell \u001b[1;32mIn[146], line 1\u001b[0m\n\u001b[1;32m----> 1\u001b[0m session\u001b[38;5;241m.\u001b[39mUpper()\n",
      "\u001b[1;31mAttributeError\u001b[0m: 'str' object has no attribute 'Upper'"
     ]
    }
   ],
   "source": [
    "session.Upper()"
   ]
  },
  {
   "cell_type": "code",
   "execution_count": 148,
   "id": "fe1b0d86-6d4a-4ad9-b0e6-91c80a03e5e6",
   "metadata": {},
   "outputs": [
    {
     "ename": "AttributeError",
     "evalue": "'str' object has no attribute 'Uppers'",
     "output_type": "error",
     "traceback": [
      "\u001b[1;31m---------------------------------------------------------------------------\u001b[0m",
      "\u001b[1;31mAttributeError\u001b[0m                            Traceback (most recent call last)",
      "Cell \u001b[1;32mIn[148], line 1\u001b[0m\n\u001b[1;32m----> 1\u001b[0m session\u001b[38;5;241m.\u001b[39mUppers()\n",
      "\u001b[1;31mAttributeError\u001b[0m: 'str' object has no attribute 'Uppers'"
     ]
    }
   ],
   "source": [
    "session.Uppers()"
   ]
  },
  {
   "cell_type": "code",
   "execution_count": 154,
   "id": "c5f95aaa-11b1-43ae-baa5-3fa3cdf28d01",
   "metadata": {},
   "outputs": [
    {
     "data": {
      "text/plain": [
       "'WE HAVE BEEN COMP 5 SESSION'"
      ]
     },
     "execution_count": 154,
     "metadata": {},
     "output_type": "execute_result"
    }
   ],
   "source": [
    "session"
   ]
  },
  {
   "cell_type": "code",
   "execution_count": 160,
   "id": "77ce07e3-b029-4380-a99e-991bff4dd03d",
   "metadata": {},
   "outputs": [
    {
     "data": {
      "text/plain": [
       "'we have been comp 5 session'"
      ]
     },
     "execution_count": 160,
     "metadata": {},
     "output_type": "execute_result"
    }
   ],
   "source": [
    "session5 = session.lower()\n",
    "session5"
   ]
  },
  {
   "cell_type": "code",
   "execution_count": 162,
   "id": "5b15e5e4-ab99-4e34-ac58-9a55acd559c4",
   "metadata": {},
   "outputs": [
    {
     "data": {
      "text/plain": [
       "'WE HAVE BEEN COMP 5 SESSION'"
      ]
     },
     "execution_count": 162,
     "metadata": {},
     "output_type": "execute_result"
    }
   ],
   "source": [
    "session"
   ]
  },
  {
   "cell_type": "code",
   "execution_count": 164,
   "id": "9a21e9fc-9cb0-4e27-a921-3fcbac78f5c9",
   "metadata": {},
   "outputs": [
    {
     "data": {
      "text/plain": [
       "'WE HAVE BEEN COMP 5 SESSION'"
      ]
     },
     "execution_count": 164,
     "metadata": {},
     "output_type": "execute_result"
    }
   ],
   "source": [
    "session"
   ]
  },
  {
   "cell_type": "code",
   "execution_count": 166,
   "id": "b9ff8545-5b4c-47ef-b91d-51ad69434678",
   "metadata": {},
   "outputs": [
    {
     "data": {
      "text/plain": [
       "'WE HAVE BEEN COMP 7 SESSION'"
      ]
     },
     "execution_count": 166,
     "metadata": {},
     "output_type": "execute_result"
    }
   ],
   "source": [
    "session.replace('5','7')"
   ]
  },
  {
   "cell_type": "code",
   "execution_count": 170,
   "id": "4023f466-facc-4805-b70a-4474e8be69f5",
   "metadata": {},
   "outputs": [
    {
     "data": {
      "text/plain": [
       "'WE HAVE BEEN COMP 5 SESSION'"
      ]
     },
     "execution_count": 170,
     "metadata": {},
     "output_type": "execute_result"
    }
   ],
   "source": [
    "session.replace('comp','fah')"
   ]
  },
  {
   "cell_type": "code",
   "execution_count": 174,
   "id": "4302b436-9402-4bf4-804e-0c93a3581edd",
   "metadata": {},
   "outputs": [
    {
     "ename": "TypeError",
     "evalue": "replace expected at most 3 arguments, got 4",
     "output_type": "error",
     "traceback": [
      "\u001b[1;31m---------------------------------------------------------------------------\u001b[0m",
      "\u001b[1;31mTypeError\u001b[0m                                 Traceback (most recent call last)",
      "Cell \u001b[1;32mIn[174], line 1\u001b[0m\n\u001b[1;32m----> 1\u001b[0m session\u001b[38;5;241m.\u001b[39mreplace(\u001b[38;5;124m'\u001b[39m\u001b[38;5;124mBEEN\u001b[39m\u001b[38;5;124m'\u001b[39m,\u001b[38;5;124m'\u001b[39m\u001b[38;5;124m5\u001b[39m\u001b[38;5;124m'\u001b[39m,\u001b[38;5;124m'\u001b[39m\u001b[38;5;124mbeen\u001b[39m\u001b[38;5;124m'\u001b[39m,\u001b[38;5;124m'\u001b[39m\u001b[38;5;124m6\u001b[39m\u001b[38;5;124m'\u001b[39m)\n",
      "\u001b[1;31mTypeError\u001b[0m: replace expected at most 3 arguments, got 4"
     ]
    }
   ],
   "source": [
    "session.replace('BEEN','5','been','6')"
   ]
  },
  {
   "cell_type": "code",
   "execution_count": 176,
   "id": "c0a0fd3e-2ac7-489e-abc2-22ce676755d4",
   "metadata": {},
   "outputs": [
    {
     "data": {
      "text/plain": [
       "'WE HAVE BEEN COMP 5 SESSION'"
      ]
     },
     "execution_count": 176,
     "metadata": {},
     "output_type": "execute_result"
    }
   ],
   "source": [
    "session.replace('BEEN 5','been6')"
   ]
  },
  {
   "cell_type": "code",
   "execution_count": 178,
   "id": "41ba6ad2-7511-4349-bcfb-00b5736e93f7",
   "metadata": {},
   "outputs": [
    {
     "data": {
      "text/plain": [
       "'WE HAVE been6 SESSION'"
      ]
     },
     "execution_count": 178,
     "metadata": {},
     "output_type": "execute_result"
    }
   ],
   "source": [
    "session.replace('BEEN COMP 5','been6')"
   ]
  },
  {
   "cell_type": "code",
   "execution_count": 182,
   "id": "dc53c0bd-1588-4187-8b53-1a00d2509bb1",
   "metadata": {},
   "outputs": [
    {
     "data": {
      "text/plain": [
       "'we have been comp 5 session'"
      ]
     },
     "execution_count": 182,
     "metadata": {},
     "output_type": "execute_result"
    }
   ],
   "source": [
    "session5"
   ]
  },
  {
   "cell_type": "code",
   "execution_count": 184,
   "id": "f0723328-63bb-44f3-aee3-d8515ff14758",
   "metadata": {},
   "outputs": [
    {
     "data": {
      "text/plain": [
       "3"
      ]
     },
     "execution_count": 184,
     "metadata": {},
     "output_type": "execute_result"
    }
   ],
   "source": [
    "session5.index('h')"
   ]
  },
  {
   "cell_type": "code",
   "execution_count": 186,
   "id": "515f0e64-3284-4379-9206-5363cfc62880",
   "metadata": {},
   "outputs": [
    {
     "data": {
      "text/plain": [
       "1"
      ]
     },
     "execution_count": 186,
     "metadata": {},
     "output_type": "execute_result"
    }
   ],
   "source": [
    "session5.index('e')"
   ]
  },
  {
   "cell_type": "code",
   "execution_count": 188,
   "id": "4adce288-5090-456b-8165-91fadb4b70b6",
   "metadata": {},
   "outputs": [
    {
     "data": {
      "text/plain": [
       "'we have been comp 5 session'"
      ]
     },
     "execution_count": 188,
     "metadata": {},
     "output_type": "execute_result"
    }
   ],
   "source": [
    "session5"
   ]
  },
  {
   "cell_type": "code",
   "execution_count": 190,
   "id": "46f079dd-430e-4539-9294-cd5790eaaafb",
   "metadata": {},
   "outputs": [
    {
     "data": {
      "text/plain": [
       "['we', 'have', 'been', 'comp', '5', 'session']"
      ]
     },
     "execution_count": 190,
     "metadata": {},
     "output_type": "execute_result"
    }
   ],
   "source": [
    "session5.split()"
   ]
  },
  {
   "cell_type": "code",
   "execution_count": 192,
   "id": "9e062e29-3a7b-4324-8441-d9dd200b2a18",
   "metadata": {},
   "outputs": [
    {
     "data": {
      "text/plain": [
       "['we_have_been_comp_5_session']"
      ]
     },
     "execution_count": 192,
     "metadata": {},
     "output_type": "execute_result"
    }
   ],
   "source": [
    "'we_have_been_comp_5_session'.split()"
   ]
  },
  {
   "cell_type": "code",
   "execution_count": 194,
   "id": "24ad5281-c8bc-4290-80fd-7aba4ea6cc20",
   "metadata": {},
   "outputs": [
    {
     "data": {
      "text/plain": [
       "['we', 'have', 'been', 'comp', '5', 'session']"
      ]
     },
     "execution_count": 194,
     "metadata": {},
     "output_type": "execute_result"
    }
   ],
   "source": [
    "'we_have_been_comp_5_session'.split('_')"
   ]
  },
  {
   "cell_type": "code",
   "execution_count": 196,
   "id": "e16bcb78-abf8-4bfa-a090-4fe44e3ded3f",
   "metadata": {},
   "outputs": [
    {
     "data": {
      "text/plain": [
       "['khush', 'gmail.com']"
      ]
     },
     "execution_count": 196,
     "metadata": {},
     "output_type": "execute_result"
    }
   ],
   "source": [
    "\"khush@gmail.com\".split(\"@\")"
   ]
  },
  {
   "cell_type": "code",
   "execution_count": null,
   "id": "ea656041-a6c3-490c-bd93-b15b3ce6fbb8",
   "metadata": {},
   "outputs": [],
   "source": []
  }
 ],
 "metadata": {
  "kernelspec": {
   "display_name": "Python 3 (ipykernel)",
   "language": "python",
   "name": "python3"
  },
  "language_info": {
   "codemirror_mode": {
    "name": "ipython",
    "version": 3
   },
   "file_extension": ".py",
   "mimetype": "text/x-python",
   "name": "python",
   "nbconvert_exporter": "python",
   "pygments_lexer": "ipython3",
   "version": "3.12.4"
  }
 },
 "nbformat": 4,
 "nbformat_minor": 5
}
