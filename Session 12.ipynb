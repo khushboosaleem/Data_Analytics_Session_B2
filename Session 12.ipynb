{
 "cells": [
  {
   "cell_type": "markdown",
   "id": "47e99143-e827-4a49-aab3-02e95105d801",
   "metadata": {},
   "source": [
    "# Combining *args and **kwargs"
   ]
  },
  {
   "cell_type": "code",
   "execution_count": 2,
   "id": "b8f99b12-b6fa-4b37-9efd-4e0699ca789b",
   "metadata": {},
   "outputs": [
    {
     "name": "stdout",
     "output_type": "stream",
     "text": [
      "Positional arguments: ('Alice', 'Bob')\n",
      "Keyword arguments: {'age': 30, 'job': 'Engineer'}\n"
     ]
    }
   ],
   "source": [
    "# When used together, *args must appear before **kwargs in the function definition.\n",
    "\n",
    "def show_info(*args, **kwargs):\n",
    "    print(\"Positional arguments:\", args)\n",
    "    print(\"Keyword arguments:\", kwargs)\n",
    "\n",
    "show_info(\"Alice\", \"Bob\", age=30, job=\"Engineer\")\n"
   ]
  },
  {
   "cell_type": "code",
   "execution_count": 4,
   "id": "272a6ee2-c942-43b1-a4df-4a061c429ae2",
   "metadata": {},
   "outputs": [
    {
     "ename": "SyntaxError",
     "evalue": "positional argument follows keyword argument (2100428637.py, line 5)",
     "output_type": "error",
     "traceback": [
      "\u001b[1;36m  Cell \u001b[1;32mIn[4], line 5\u001b[1;36m\u001b[0m\n\u001b[1;33m    show_info(age=30, job=\"Engineer\",'Alice','Hello')\u001b[0m\n\u001b[1;37m                                                    ^\u001b[0m\n\u001b[1;31mSyntaxError\u001b[0m\u001b[1;31m:\u001b[0m positional argument follows keyword argument\n"
     ]
    }
   ],
   "source": [
    "def show_info(*args, **kwargs):\n",
    "    print(\"Positional arguments:\", args)\n",
    "    print(\"Keyword arguments:\", kwargs)\n",
    "\n",
    "show_info(age=30, job=\"Engineer\",'Alice','Hello')\n"
   ]
  },
  {
   "cell_type": "code",
   "execution_count": 6,
   "id": "e1446c74-cc57-4614-92f5-37ba63896d08",
   "metadata": {},
   "outputs": [
    {
     "ename": "SyntaxError",
     "evalue": "arguments cannot follow var-keyword argument (1377220385.py, line 1)",
     "output_type": "error",
     "traceback": [
      "\u001b[1;36m  Cell \u001b[1;32mIn[6], line 1\u001b[1;36m\u001b[0m\n\u001b[1;33m    def show_info(**kwargs,*args):\u001b[0m\n\u001b[1;37m                           ^\u001b[0m\n\u001b[1;31mSyntaxError\u001b[0m\u001b[1;31m:\u001b[0m arguments cannot follow var-keyword argument\n"
     ]
    }
   ],
   "source": [
    "def show_info(**kwargs,*args):\n",
    "    print(\"Positional arguments:\", args)\n",
    "    print(\"Keyword arguments:\", kwargs)\n",
    "\n",
    "show_info(age=30, job=\"Engineer\")\n"
   ]
  },
  {
   "cell_type": "code",
   "execution_count": 8,
   "id": "b32944fc-eb8a-480c-b2ee-1ba7b33195b9",
   "metadata": {},
   "outputs": [
    {
     "ename": "SyntaxError",
     "evalue": "arguments cannot follow var-keyword argument (1629483132.py, line 1)",
     "output_type": "error",
     "traceback": [
      "\u001b[1;36m  Cell \u001b[1;32mIn[8], line 1\u001b[1;36m\u001b[0m\n\u001b[1;33m    def show_info(**kwargs,*args):\u001b[0m\n\u001b[1;37m                           ^\u001b[0m\n\u001b[1;31mSyntaxError\u001b[0m\u001b[1;31m:\u001b[0m arguments cannot follow var-keyword argument\n"
     ]
    }
   ],
   "source": [
    "def show_info(**kwargs,*args):\n",
    "    print(\"Positional arguments:\", args)\n",
    "    print(\"Keyword arguments:\", kwargs)\n",
    "\n",
    "show_info(age=30, job=\"Engineer\",\"Alice\",\"Hello\")"
   ]
  },
  {
   "cell_type": "markdown",
   "id": "2d7af7af-2ab3-4aba-b0cc-1cb45eabb418",
   "metadata": {},
   "source": [
    "- Local variables: Variables defined inside a function are local to that function. They are only accessible within the function.\n",
    "- Global variables: Variables defined outside of all functions are global. They can be accessed from anywhere in the code."
   ]
  },
  {
   "cell_type": "code",
   "execution_count": 10,
   "id": "fafe0fdc-e5bd-4499-93b5-128cf9ab7731",
   "metadata": {},
   "outputs": [
    {
     "name": "stdout",
     "output_type": "stream",
     "text": [
      "Inside function: 20\n"
     ]
    }
   ],
   "source": [
    "x = 10  # Global variable\n",
    "\n",
    "def print_x():\n",
    "    x = 20  # Local variable\n",
    "    print(\"Inside function:\", x)\n",
    "\n",
    "print_x()"
   ]
  },
  {
   "cell_type": "code",
   "execution_count": 12,
   "id": "167823eb-d374-409b-8fbc-7311a35dc4ac",
   "metadata": {},
   "outputs": [
    {
     "name": "stdout",
     "output_type": "stream",
     "text": [
      "10\n"
     ]
    }
   ],
   "source": [
    "x = 10\n",
    "\n",
    "def modify_x():\n",
    "    print(x)\n",
    "\n",
    "modify_x()"
   ]
  },
  {
   "cell_type": "code",
   "execution_count": 14,
   "id": "04c42aab-a5ea-4e34-9f5d-2fc09cc37047",
   "metadata": {},
   "outputs": [
    {
     "name": "stdout",
     "output_type": "stream",
     "text": [
      "10\n"
     ]
    }
   ],
   "source": [
    "#use of global keyword\n",
    "\n",
    "x = 10\n",
    "\n",
    "def modify_x():\n",
    "    global x \n",
    "    print(x)\n",
    "\n",
    "modify_x()\n"
   ]
  },
  {
   "cell_type": "code",
   "execution_count": 16,
   "id": "bd3d3eb2-d425-46da-bd0e-3eb7d2b99dbb",
   "metadata": {},
   "outputs": [
    {
     "name": "stdout",
     "output_type": "stream",
     "text": [
      "Inside function: 20\n"
     ]
    }
   ],
   "source": [
    "#use of global keyword\n",
    "\n",
    "x = 10\n",
    "\n",
    "def modify_x():\n",
    "    global x \n",
    "    x = 20\n",
    "    print(\"Inside function:\", x)\n",
    "\n",
    "modify_x()\n"
   ]
  },
  {
   "cell_type": "code",
   "execution_count": 18,
   "id": "325b9c19-1138-4736-b10d-f5cc53cb82bd",
   "metadata": {},
   "outputs": [
    {
     "name": "stdout",
     "output_type": "stream",
     "text": [
      "Inside function: 10\n",
      "Outside function: 10\n"
     ]
    }
   ],
   "source": [
    "x = 30  # Global variable\n",
    "\n",
    "def modify_x():\n",
    "    global x  # Refers to the global variable `x` declared outside the function\n",
    "    x = 10    # Modifies the global `x`\n",
    "    print(\"Inside function:\", x)  # Prints the modified value of `x` inside the function\n",
    "\n",
    "modify_x()  # Call the function\n",
    "print(\"Outside function:\", x)  # Prints the updated value of `x` globally\n"
   ]
  },
  {
   "cell_type": "code",
   "execution_count": 20,
   "id": "06eab030-13e1-4dab-a542-6fc7c9d3ef26",
   "metadata": {},
   "outputs": [
    {
     "name": "stdout",
     "output_type": "stream",
     "text": [
      "Inside function: 10\n",
      "Outside function: 30\n",
      "Outside function: 30\n"
     ]
    }
   ],
   "source": [
    "y = 30  # Global variable\n",
    "\n",
    "def modify_x():\n",
    "    global y  \n",
    "    x = 10    \n",
    "    print(\"Inside function:\", x)\n",
    "    print(\"Outside function:\", y)\n",
    "\n",
    "modify_x()  # Call the function\n",
    "print(\"Outside function:\", y)  # Prints the updated value of `y` globally"
   ]
  },
  {
   "cell_type": "code",
   "execution_count": 22,
   "id": "11c84fd6-5d12-4491-a73c-1edde1ffb905",
   "metadata": {},
   "outputs": [
    {
     "name": "stdout",
     "output_type": "stream",
     "text": [
      "25\n"
     ]
    }
   ],
   "source": [
    "# Lambda Function\n",
    "# The function is one-liner and doesn’t require multiple expressions or statements.\n",
    "# lambda arguments: expression\n",
    "square = lambda x: x ** 2\n",
    "print(square(5))\n"
   ]
  },
  {
   "cell_type": "code",
   "execution_count": 24,
   "id": "505d4eec-0155-4493-84a4-3ab468cfabfc",
   "metadata": {},
   "outputs": [
    {
     "ename": "TypeError",
     "evalue": "<lambda>() missing 1 required positional argument: 'y'",
     "output_type": "error",
     "traceback": [
      "\u001b[1;31m---------------------------------------------------------------------------\u001b[0m",
      "\u001b[1;31mTypeError\u001b[0m                                 Traceback (most recent call last)",
      "Cell \u001b[1;32mIn[24], line 2\u001b[0m\n\u001b[0;32m      1\u001b[0m add \u001b[38;5;241m=\u001b[39m \u001b[38;5;28;01mlambda\u001b[39;00m x,y:x\u001b[38;5;241m+\u001b[39my\n\u001b[1;32m----> 2\u001b[0m add(\u001b[38;5;241m5\u001b[39m)\n",
      "\u001b[1;31mTypeError\u001b[0m: <lambda>() missing 1 required positional argument: 'y'"
     ]
    }
   ],
   "source": [
    "add = lambda x,y:x+y\n",
    "add(5)"
   ]
  },
  {
   "cell_type": "code",
   "execution_count": 26,
   "id": "7276d6cd-c182-420a-a3d9-cc3fdde7903e",
   "metadata": {},
   "outputs": [
    {
     "data": {
      "text/plain": [
       "7"
      ]
     },
     "execution_count": 26,
     "metadata": {},
     "output_type": "execute_result"
    }
   ],
   "source": [
    "add = lambda x,y:x+y\n",
    "add(5,2)"
   ]
  },
  {
   "cell_type": "markdown",
   "id": "3f426240-39a0-4fa3-b1f3-ac4db87a60de",
   "metadata": {},
   "source": [
    "### Nested Function"
   ]
  },
  {
   "cell_type": "code",
   "execution_count": 28,
   "id": "640c5172-e373-4f75-8b0e-740e910741a4",
   "metadata": {},
   "outputs": [
    {
     "name": "stdout",
     "output_type": "stream",
     "text": [
      "Outer variable: 5\n",
      "Inner variable: 10\n",
      "Outer variable inside outer function: 5\n"
     ]
    }
   ],
   "source": [
    "def outer_function(outer_variable):\n",
    "    def inner_function(inner_variable):\n",
    "        print(f\"Outer variable: {outer_variable}\")\n",
    "        print(f\"Inner variable: {inner_variable}\")\n",
    "    inner_function(10)\n",
    "    print(f\"Outer variable inside outer function: {outer_variable}\")\n",
    "\n",
    "outer_function(5)\n"
   ]
  },
  {
   "cell_type": "code",
   "execution_count": 32,
   "id": "f9bd969c-a64b-4ac0-a5e4-d8adc5f1a92d",
   "metadata": {},
   "outputs": [
    {
     "name": "stdout",
     "output_type": "stream",
     "text": [
      "Inside inner function\n"
     ]
    }
   ],
   "source": [
    "#Calling inner functions outside the outer function\n",
    "def outer():\n",
    "    def inner():\n",
    "        print(\"Inside inner function\")\n",
    "\n",
    "    inner()\n",
    "outer()"
   ]
  },
  {
   "cell_type": "markdown",
   "id": "ee9c1ee5-7823-4b16-acdd-0677a40d350c",
   "metadata": {},
   "source": [
    "### List Comprehension"
   ]
  },
  {
   "cell_type": "code",
   "execution_count": 36,
   "id": "e8ff2048-1f1d-4697-bb85-d90d1e04c5a8",
   "metadata": {},
   "outputs": [],
   "source": [
    "square = []\n",
    "\n",
    "for x in range(5):\n",
    "    # print(x ** 2)\n",
    "    y = x ** 2\n",
    "    square.append(y)"
   ]
  },
  {
   "cell_type": "code",
   "execution_count": 38,
   "id": "04a0bf6a-679a-4f3e-aab6-9529536b61af",
   "metadata": {},
   "outputs": [
    {
     "data": {
      "text/plain": [
       "[0, 1, 4, 9, 16]"
      ]
     },
     "execution_count": 38,
     "metadata": {},
     "output_type": "execute_result"
    }
   ],
   "source": [
    "square"
   ]
  },
  {
   "cell_type": "code",
   "execution_count": 40,
   "id": "95aac711-5073-4a3b-afdb-43fd451001b4",
   "metadata": {},
   "outputs": [
    {
     "name": "stdout",
     "output_type": "stream",
     "text": [
      "[0, 1, 4, 9, 16]\n"
     ]
    }
   ],
   "source": [
    "squares = [x ** 2 for x in range(5)]\n",
    "print(squares)\n"
   ]
  },
  {
   "cell_type": "code",
   "execution_count": 44,
   "id": "301167ff-6f72-4930-928f-dbc3ae03e3b7",
   "metadata": {},
   "outputs": [],
   "source": [
    "Ec_Store_Orders = [\n",
    "    {\"order_id\": 1, \"customer_name\": \"Ali\", \"total_amount\": 120, \"status\": \"Completed\"},\n",
    "    {\"order_id\": 2, \"customer_name\": \"Raheel\", \"total_amount\": 80, \"status\": \"Pending\"},\n",
    "    {\"order_id\": 3, \"customer_name\": \"Saleem\", \"total_amount\": 150, \"status\": \"Completed\"},\n",
    "    {\"order_id\": 4, \"customer_name\": \"khushnoor\", \"total_amount\": 95, \"status\": \"Completed\"},\n",
    "    {\"order_id\": 5, \"customer_name\": \"Alizy\", \"total_amount\": 200, \"status\": \"Pending\"},\n",
    "    {\"order_id\": 6, \"customer_name\": \"javaid\", \"total_amount\": 85, \"status\": \"Completed\"},\n",
    "    {\"order_id\": 7, \"customer_name\": \"Talha\", \"total_amount\": 150, \"status\": \"Pending\"},\n",
    "    {\"order_id\": 8, \"customer_name\": \"Naveed\", \"total_amount\": 200, \"status\": \"Completed\"},\n",
    "]"
   ]
  },
  {
   "cell_type": "code",
   "execution_count": 46,
   "id": "fa81ecaa-2b14-4370-bd86-286ce332e786",
   "metadata": {},
   "outputs": [
    {
     "data": {
      "text/plain": [
       "[{'order_id': 1,\n",
       "  'customer_name': 'Ali',\n",
       "  'total_amount': 120,\n",
       "  'status': 'Completed'},\n",
       " {'order_id': 2,\n",
       "  'customer_name': 'Raheel',\n",
       "  'total_amount': 80,\n",
       "  'status': 'Pending'},\n",
       " {'order_id': 3,\n",
       "  'customer_name': 'Saleem',\n",
       "  'total_amount': 150,\n",
       "  'status': 'Completed'},\n",
       " {'order_id': 4,\n",
       "  'customer_name': 'khushnoor',\n",
       "  'total_amount': 95,\n",
       "  'status': 'Completed'},\n",
       " {'order_id': 5,\n",
       "  'customer_name': 'Alizy',\n",
       "  'total_amount': 200,\n",
       "  'status': 'Pending'},\n",
       " {'order_id': 6,\n",
       "  'customer_name': 'javaid',\n",
       "  'total_amount': 85,\n",
       "  'status': 'Completed'},\n",
       " {'order_id': 7,\n",
       "  'customer_name': 'Talha',\n",
       "  'total_amount': 150,\n",
       "  'status': 'Pending'},\n",
       " {'order_id': 8,\n",
       "  'customer_name': 'Naveed',\n",
       "  'total_amount': 200,\n",
       "  'status': 'Completed'}]"
      ]
     },
     "execution_count": 46,
     "metadata": {},
     "output_type": "execute_result"
    }
   ],
   "source": [
    "Ec_Store_Orders"
   ]
  },
  {
   "cell_type": "code",
   "execution_count": 48,
   "id": "71f75153-36c6-4dbc-a949-1c73a4082214",
   "metadata": {},
   "outputs": [
    {
     "name": "stdout",
     "output_type": "stream",
     "text": [
      "{'order_id': 1, 'customer_name': 'Ali', 'total_amount': 120, 'status': 'Completed'}\n",
      "{'order_id': 2, 'customer_name': 'Raheel', 'total_amount': 80, 'status': 'Pending'}\n",
      "{'order_id': 3, 'customer_name': 'Saleem', 'total_amount': 150, 'status': 'Completed'}\n",
      "{'order_id': 4, 'customer_name': 'khushnoor', 'total_amount': 95, 'status': 'Completed'}\n",
      "{'order_id': 5, 'customer_name': 'Alizy', 'total_amount': 200, 'status': 'Pending'}\n",
      "{'order_id': 6, 'customer_name': 'javaid', 'total_amount': 85, 'status': 'Completed'}\n",
      "{'order_id': 7, 'customer_name': 'Talha', 'total_amount': 150, 'status': 'Pending'}\n",
      "{'order_id': 8, 'customer_name': 'Naveed', 'total_amount': 200, 'status': 'Completed'}\n"
     ]
    }
   ],
   "source": [
    "for order in Ec_Store_Orders:\n",
    "    print(order)"
   ]
  },
  {
   "cell_type": "code",
   "execution_count": 50,
   "id": "2a929c0e-773a-40c2-9054-dcfec6c8fe08",
   "metadata": {},
   "outputs": [
    {
     "data": {
      "text/plain": [
       "[1, 3, 8]"
      ]
     },
     "execution_count": 50,
     "metadata": {},
     "output_type": "execute_result"
    }
   ],
   "source": [
    "order_id_comp = []\n",
    "\n",
    "for order in Ec_Store_Orders:\n",
    "    if order['total_amount'] > 100 and order['status'] == 'Completed':\n",
    "      order_id_comp.append(order['order_id'])  \n",
    "\n",
    "order_id_comp"
   ]
  },
  {
   "cell_type": "code",
   "execution_count": 58,
   "id": "9cccdee6-e25d-47a1-8f3f-a9cb6d517861",
   "metadata": {},
   "outputs": [],
   "source": [
    "order_id_comp = [order['order_id'] for order in Ec_Store_Orders \n",
    "                 if order['total_amount']>100 and order['status'] == 'Completed']"
   ]
  },
  {
   "cell_type": "code",
   "execution_count": 60,
   "id": "87eb504d-cedd-4e02-8780-c358ccf9b036",
   "metadata": {},
   "outputs": [
    {
     "data": {
      "text/plain": [
       "[1, 3, 8]"
      ]
     },
     "execution_count": 60,
     "metadata": {},
     "output_type": "execute_result"
    }
   ],
   "source": [
    "order_id_comp"
   ]
  }
 ],
 "metadata": {
  "kernelspec": {
   "display_name": "Python 3 (ipykernel)",
   "language": "python",
   "name": "python3"
  },
  "language_info": {
   "codemirror_mode": {
    "name": "ipython",
    "version": 3
   },
   "file_extension": ".py",
   "mimetype": "text/x-python",
   "name": "python",
   "nbconvert_exporter": "python",
   "pygments_lexer": "ipython3",
   "version": "3.12.4"
  }
 },
 "nbformat": 4,
 "nbformat_minor": 5
}
