{
 "cells": [
  {
   "cell_type": "code",
   "execution_count": 4,
   "id": "31d9d9c2-8fdf-417a-8827-1ec07782a343",
   "metadata": {},
   "outputs": [],
   "source": [
    "import time\n",
    "from selenium import webdriver\n",
    "from selenium.webdriver.common.by import By\n",
    "\n",
    "driver = webdriver.Chrome()\n",
    "driver.maximize_window()\n",
    "\n",
    "url = 'https://github.com/login'\n",
    "driver.get(url)\n",
    "time.sleep(2)\n",
    "\n",
    "# username field\n",
    "username_field = driver.find_element(By.ID, 'login_field')\n",
    "username_field.send_keys('khushboo')\n",
    "time.sleep(1)\n",
    "\n",
    "# password field\n",
    "password_field = driver.find_element(By.ID, 'password')\n",
    "password_field.send_keys('pass123')\n",
    "time.sleep(1)\n",
    "\n",
    "# submit button\n",
    "submit_button = driver.find_element(By.XPATH, '//*[@id=\"login\"]/div[4]/form/div/input[13]')     \n",
    "submit_button.click()\n",
    "time.sleep(2)\n",
    "\n",
    "driver.quit()\n"
   ]
  }
 ],
 "metadata": {
  "kernelspec": {
   "display_name": "web",
   "language": "python",
   "name": "web"
  },
  "language_info": {
   "codemirror_mode": {
    "name": "ipython",
    "version": 3
   },
   "file_extension": ".py",
   "mimetype": "text/x-python",
   "name": "python",
   "nbconvert_exporter": "python",
   "pygments_lexer": "ipython3",
   "version": "3.12.4"
  }
 },
 "nbformat": 4,
 "nbformat_minor": 5
}
