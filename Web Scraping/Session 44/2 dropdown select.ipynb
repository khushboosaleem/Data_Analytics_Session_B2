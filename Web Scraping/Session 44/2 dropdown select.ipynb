{
 "cells": [
  {
   "cell_type": "code",
   "execution_count": 2,
   "id": "b9cd63d3-b794-4079-a3fb-8c025da102f8",
   "metadata": {},
   "outputs": [],
   "source": [
    "import time\n",
    "from selenium import webdriver\n",
    "from selenium.webdriver.common.by import By\n",
    "from selenium.webdriver.support.select import Select\n",
    "\n",
    "driver = webdriver.Chrome()\n",
    "driver.maximize_window()\n",
    "\n",
    "url = 'https://www.miniclip.com/careers/vacancies'\n",
    "driver.get(url)\n",
    "time.sleep(2)\n",
    "\n",
    "# identify the element\n",
    "departments_field = driver.find_element(By.XPATH, '//*[@id=\"__layout\"]/div/div/section[2]/div/fieldset[3]/select')    \n",
    "\n",
    "# convert to dropdown element\n",
    "departments_dropdown = Select(departments_field)\n",
    "\n",
    "time.sleep(2)\n",
    "\n",
    "# select option by index\n",
    "departments_dropdown.select_by_index(5)\n",
    "\n",
    "time.sleep(2)\n",
    "\n",
    "driver.quit()\n"
   ]
  }
 ],
 "metadata": {
  "kernelspec": {
   "display_name": "web",
   "language": "python",
   "name": "web"
  },
  "language_info": {
   "codemirror_mode": {
    "name": "ipython",
    "version": 3
   },
   "file_extension": ".py",
   "mimetype": "text/x-python",
   "name": "python",
   "nbconvert_exporter": "python",
   "pygments_lexer": "ipython3",
   "version": "3.12.4"
  }
 },
 "nbformat": 4,
 "nbformat_minor": 5
}
